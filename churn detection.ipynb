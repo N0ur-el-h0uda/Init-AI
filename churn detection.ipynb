{
 "cells": [
  {
   "cell_type": "code",
   "execution_count": 1,
   "id": "52bd3c7b",
   "metadata": {
    "_cell_guid": "b1076dfc-b9ad-4769-8c92-a6c4dae69d19",
    "_uuid": "8f2839f25d086af736a60e9eeb907d3b93b6e0e5",
    "execution": {
     "iopub.execute_input": "2025-07-21T20:43:35.406314Z",
     "iopub.status.busy": "2025-07-21T20:43:35.405925Z",
     "iopub.status.idle": "2025-07-21T20:43:37.279192Z",
     "shell.execute_reply": "2025-07-21T20:43:37.278086Z"
    },
    "papermill": {
     "duration": 1.881876,
     "end_time": "2025-07-21T20:43:37.280770",
     "exception": false,
     "start_time": "2025-07-21T20:43:35.398894",
     "status": "completed"
    },
    "tags": []
   },
   "outputs": [
    {
     "name": "stdout",
     "output_type": "stream",
     "text": [
      "/kaggle/input/churn-detection/train.csv\n",
      "/kaggle/input/churn-detection/test.csv\n"
     ]
    }
   ],
   "source": [
    "# This Python 3 environment comes with many helpful analytics libraries installed\n",
    "# It is defined by the kaggle/python Docker image: https://github.com/kaggle/docker-python\n",
    "# For example, here's several helpful packages to load\n",
    "\n",
    "import numpy as np # linear algebra\n",
    "import pandas as pd # data processing, CSV file I/O (e.g. pd.read_csv)\n",
    "\n",
    "# Input data files are available in the read-only \"../input/\" directory\n",
    "# For example, running this (by clicking run or pressing Shift+Enter) will list all files under the input directory\n",
    "\n",
    "import os\n",
    "for dirname, _, filenames in os.walk('/kaggle/input'):\n",
    "    for filename in filenames:\n",
    "        print(os.path.join(dirname, filename))\n",
    "\n",
    "# You can write up to 20GB to the current directory (/kaggle/working/) that gets preserved as output when you create a version using \"Save & Run All\" \n",
    "# You can also write temporary files to /kaggle/temp/, but they won't be saved outside of the current session"
   ]
  },
  {
   "cell_type": "code",
   "execution_count": 2,
   "id": "9c2a00b2",
   "metadata": {
    "execution": {
     "iopub.execute_input": "2025-07-21T20:43:37.292527Z",
     "iopub.status.busy": "2025-07-21T20:43:37.292143Z",
     "iopub.status.idle": "2025-07-21T20:43:37.296443Z",
     "shell.execute_reply": "2025-07-21T20:43:37.295642Z"
    },
    "papermill": {
     "duration": 0.011589,
     "end_time": "2025-07-21T20:43:37.297801",
     "exception": false,
     "start_time": "2025-07-21T20:43:37.286212",
     "status": "completed"
    },
    "tags": []
   },
   "outputs": [],
   "source": [
    "import pandas as pd\n",
    "import numpy as np"
   ]
  },
  {
   "cell_type": "code",
   "execution_count": 3,
   "id": "2c8fb22f",
   "metadata": {
    "execution": {
     "iopub.execute_input": "2025-07-21T20:43:37.309619Z",
     "iopub.status.busy": "2025-07-21T20:43:37.308848Z",
     "iopub.status.idle": "2025-07-21T20:43:39.843338Z",
     "shell.execute_reply": "2025-07-21T20:43:39.842470Z"
    },
    "papermill": {
     "duration": 2.541858,
     "end_time": "2025-07-21T20:43:39.844933",
     "exception": false,
     "start_time": "2025-07-21T20:43:37.303075",
     "status": "completed"
    },
    "tags": []
   },
   "outputs": [],
   "source": [
    "from sklearn.model_selection import train_test_split\n",
    "from sklearn.preprocessing import LabelEncoder\n",
    "from sklearn.metrics import f1_score\n",
    "from xgboost import XGBClassifier\n",
    "import matplotlib.pyplot as plt\n",
    "import seaborn as sns"
   ]
  },
  {
   "cell_type": "code",
   "execution_count": 4,
   "id": "580ccc9e",
   "metadata": {
    "execution": {
     "iopub.execute_input": "2025-07-21T20:43:39.856601Z",
     "iopub.status.busy": "2025-07-21T20:43:39.856157Z",
     "iopub.status.idle": "2025-07-21T20:43:39.919363Z",
     "shell.execute_reply": "2025-07-21T20:43:39.918144Z"
    },
    "papermill": {
     "duration": 0.07066,
     "end_time": "2025-07-21T20:43:39.920995",
     "exception": false,
     "start_time": "2025-07-21T20:43:39.850335",
     "status": "completed"
    },
    "tags": []
   },
   "outputs": [],
   "source": [
    "train_df = pd.read_csv('../input/churn-detection/train.csv')\n",
    "test_df = pd.read_csv('../input/churn-detection/test.csv')"
   ]
  },
  {
   "cell_type": "code",
   "execution_count": 5,
   "id": "fbc7825d",
   "metadata": {
    "execution": {
     "iopub.execute_input": "2025-07-21T20:43:39.932304Z",
     "iopub.status.busy": "2025-07-21T20:43:39.931987Z",
     "iopub.status.idle": "2025-07-21T20:43:39.970740Z",
     "shell.execute_reply": "2025-07-21T20:43:39.969802Z"
    },
    "papermill": {
     "duration": 0.046315,
     "end_time": "2025-07-21T20:43:39.972410",
     "exception": false,
     "start_time": "2025-07-21T20:43:39.926095",
     "status": "completed"
    },
    "tags": []
   },
   "outputs": [
    {
     "data": {
      "text/html": [
       "<div>\n",
       "<style scoped>\n",
       "    .dataframe tbody tr th:only-of-type {\n",
       "        vertical-align: middle;\n",
       "    }\n",
       "\n",
       "    .dataframe tbody tr th {\n",
       "        vertical-align: top;\n",
       "    }\n",
       "\n",
       "    .dataframe thead th {\n",
       "        text-align: right;\n",
       "    }\n",
       "</style>\n",
       "<table border=\"1\" class=\"dataframe\">\n",
       "  <thead>\n",
       "    <tr style=\"text-align: right;\">\n",
       "      <th></th>\n",
       "      <th>id</th>\n",
       "      <th>gender</th>\n",
       "      <th>SeniorCitizen</th>\n",
       "      <th>Partner</th>\n",
       "      <th>Dependents</th>\n",
       "      <th>tenure</th>\n",
       "      <th>PhoneService</th>\n",
       "      <th>MultipleLines</th>\n",
       "      <th>InternetService</th>\n",
       "      <th>OnlineSecurity</th>\n",
       "      <th>...</th>\n",
       "      <th>DeviceProtection</th>\n",
       "      <th>TechSupport</th>\n",
       "      <th>StreamingTV</th>\n",
       "      <th>StreamingMovies</th>\n",
       "      <th>Contract</th>\n",
       "      <th>PaperlessBilling</th>\n",
       "      <th>PaymentMethod</th>\n",
       "      <th>MonthlyCharges</th>\n",
       "      <th>TotalCharges</th>\n",
       "      <th>Churn</th>\n",
       "    </tr>\n",
       "  </thead>\n",
       "  <tbody>\n",
       "    <tr>\n",
       "      <th>0</th>\n",
       "      <td>0</td>\n",
       "      <td>Male</td>\n",
       "      <td>0</td>\n",
       "      <td>Yes</td>\n",
       "      <td>No</td>\n",
       "      <td>51</td>\n",
       "      <td>Yes</td>\n",
       "      <td>Yes</td>\n",
       "      <td>DSL</td>\n",
       "      <td>No</td>\n",
       "      <td>...</td>\n",
       "      <td>No</td>\n",
       "      <td>Yes</td>\n",
       "      <td>Yes</td>\n",
       "      <td>Yes</td>\n",
       "      <td>Two year</td>\n",
       "      <td>Yes</td>\n",
       "      <td>Bank transfer (automatic)</td>\n",
       "      <td>75.20</td>\n",
       "      <td>3901.25</td>\n",
       "      <td>No</td>\n",
       "    </tr>\n",
       "    <tr>\n",
       "      <th>1</th>\n",
       "      <td>1</td>\n",
       "      <td>Female</td>\n",
       "      <td>0</td>\n",
       "      <td>No</td>\n",
       "      <td>No</td>\n",
       "      <td>11</td>\n",
       "      <td>Yes</td>\n",
       "      <td>No</td>\n",
       "      <td>DSL</td>\n",
       "      <td>Yes</td>\n",
       "      <td>...</td>\n",
       "      <td>No</td>\n",
       "      <td>Yes</td>\n",
       "      <td>No</td>\n",
       "      <td>No</td>\n",
       "      <td>One year</td>\n",
       "      <td>Yes</td>\n",
       "      <td>Mailed check</td>\n",
       "      <td>54.60</td>\n",
       "      <td>617.85</td>\n",
       "      <td>No</td>\n",
       "    </tr>\n",
       "    <tr>\n",
       "      <th>2</th>\n",
       "      <td>2</td>\n",
       "      <td>Female</td>\n",
       "      <td>0</td>\n",
       "      <td>No</td>\n",
       "      <td>No</td>\n",
       "      <td>16</td>\n",
       "      <td>Yes</td>\n",
       "      <td>No</td>\n",
       "      <td>No</td>\n",
       "      <td>No internet service</td>\n",
       "      <td>...</td>\n",
       "      <td>No internet service</td>\n",
       "      <td>No internet service</td>\n",
       "      <td>No internet service</td>\n",
       "      <td>No internet service</td>\n",
       "      <td>One year</td>\n",
       "      <td>No</td>\n",
       "      <td>Bank transfer (automatic)</td>\n",
       "      <td>20.10</td>\n",
       "      <td>318.6</td>\n",
       "      <td>No</td>\n",
       "    </tr>\n",
       "    <tr>\n",
       "      <th>3</th>\n",
       "      <td>3</td>\n",
       "      <td>Female</td>\n",
       "      <td>0</td>\n",
       "      <td>No</td>\n",
       "      <td>No</td>\n",
       "      <td>34</td>\n",
       "      <td>Yes</td>\n",
       "      <td>Yes</td>\n",
       "      <td>DSL</td>\n",
       "      <td>No</td>\n",
       "      <td>...</td>\n",
       "      <td>No</td>\n",
       "      <td>Yes</td>\n",
       "      <td>Yes</td>\n",
       "      <td>No</td>\n",
       "      <td>Month-to-month</td>\n",
       "      <td>No</td>\n",
       "      <td>Mailed check</td>\n",
       "      <td>65.00</td>\n",
       "      <td>2157.5</td>\n",
       "      <td>No</td>\n",
       "    </tr>\n",
       "    <tr>\n",
       "      <th>4</th>\n",
       "      <td>4</td>\n",
       "      <td>Female</td>\n",
       "      <td>1</td>\n",
       "      <td>Yes</td>\n",
       "      <td>No</td>\n",
       "      <td>43</td>\n",
       "      <td>Yes</td>\n",
       "      <td>Yes</td>\n",
       "      <td>Fiber optic</td>\n",
       "      <td>No</td>\n",
       "      <td>...</td>\n",
       "      <td>Yes</td>\n",
       "      <td>Yes</td>\n",
       "      <td>Yes</td>\n",
       "      <td>Yes</td>\n",
       "      <td>One year</td>\n",
       "      <td>Yes</td>\n",
       "      <td>Electronic check</td>\n",
       "      <td>107.55</td>\n",
       "      <td>4533.9</td>\n",
       "      <td>Yes</td>\n",
       "    </tr>\n",
       "  </tbody>\n",
       "</table>\n",
       "<p>5 rows × 21 columns</p>\n",
       "</div>"
      ],
      "text/plain": [
       "   id  gender  SeniorCitizen Partner Dependents  tenure PhoneService  \\\n",
       "0   0    Male              0     Yes         No      51          Yes   \n",
       "1   1  Female              0      No         No      11          Yes   \n",
       "2   2  Female              0      No         No      16          Yes   \n",
       "3   3  Female              0      No         No      34          Yes   \n",
       "4   4  Female              1     Yes         No      43          Yes   \n",
       "\n",
       "  MultipleLines InternetService       OnlineSecurity  ...  \\\n",
       "0           Yes             DSL                   No  ...   \n",
       "1            No             DSL                  Yes  ...   \n",
       "2            No              No  No internet service  ...   \n",
       "3           Yes             DSL                   No  ...   \n",
       "4           Yes     Fiber optic                   No  ...   \n",
       "\n",
       "      DeviceProtection          TechSupport          StreamingTV  \\\n",
       "0                   No                  Yes                  Yes   \n",
       "1                   No                  Yes                   No   \n",
       "2  No internet service  No internet service  No internet service   \n",
       "3                   No                  Yes                  Yes   \n",
       "4                  Yes                  Yes                  Yes   \n",
       "\n",
       "       StreamingMovies        Contract PaperlessBilling  \\\n",
       "0                  Yes        Two year              Yes   \n",
       "1                   No        One year              Yes   \n",
       "2  No internet service        One year               No   \n",
       "3                   No  Month-to-month               No   \n",
       "4                  Yes        One year              Yes   \n",
       "\n",
       "               PaymentMethod MonthlyCharges  TotalCharges Churn  \n",
       "0  Bank transfer (automatic)          75.20       3901.25    No  \n",
       "1               Mailed check          54.60        617.85    No  \n",
       "2  Bank transfer (automatic)          20.10         318.6    No  \n",
       "3               Mailed check          65.00        2157.5    No  \n",
       "4           Electronic check         107.55        4533.9   Yes  \n",
       "\n",
       "[5 rows x 21 columns]"
      ]
     },
     "execution_count": 5,
     "metadata": {},
     "output_type": "execute_result"
    }
   ],
   "source": [
    "train_df.head()"
   ]
  },
  {
   "cell_type": "code",
   "execution_count": 6,
   "id": "828daedd",
   "metadata": {
    "execution": {
     "iopub.execute_input": "2025-07-21T20:43:39.983951Z",
     "iopub.status.busy": "2025-07-21T20:43:39.983610Z",
     "iopub.status.idle": "2025-07-21T20:43:40.000790Z",
     "shell.execute_reply": "2025-07-21T20:43:39.999877Z"
    },
    "papermill": {
     "duration": 0.024673,
     "end_time": "2025-07-21T20:43:40.002307",
     "exception": false,
     "start_time": "2025-07-21T20:43:39.977634",
     "status": "completed"
    },
    "tags": []
   },
   "outputs": [
    {
     "data": {
      "text/html": [
       "<div>\n",
       "<style scoped>\n",
       "    .dataframe tbody tr th:only-of-type {\n",
       "        vertical-align: middle;\n",
       "    }\n",
       "\n",
       "    .dataframe tbody tr th {\n",
       "        vertical-align: top;\n",
       "    }\n",
       "\n",
       "    .dataframe thead th {\n",
       "        text-align: right;\n",
       "    }\n",
       "</style>\n",
       "<table border=\"1\" class=\"dataframe\">\n",
       "  <thead>\n",
       "    <tr style=\"text-align: right;\">\n",
       "      <th></th>\n",
       "      <th>id</th>\n",
       "      <th>gender</th>\n",
       "      <th>SeniorCitizen</th>\n",
       "      <th>Partner</th>\n",
       "      <th>Dependents</th>\n",
       "      <th>tenure</th>\n",
       "      <th>PhoneService</th>\n",
       "      <th>MultipleLines</th>\n",
       "      <th>InternetService</th>\n",
       "      <th>OnlineSecurity</th>\n",
       "      <th>OnlineBackup</th>\n",
       "      <th>DeviceProtection</th>\n",
       "      <th>TechSupport</th>\n",
       "      <th>StreamingTV</th>\n",
       "      <th>StreamingMovies</th>\n",
       "      <th>Contract</th>\n",
       "      <th>PaperlessBilling</th>\n",
       "      <th>PaymentMethod</th>\n",
       "      <th>MonthlyCharges</th>\n",
       "      <th>TotalCharges</th>\n",
       "    </tr>\n",
       "  </thead>\n",
       "  <tbody>\n",
       "    <tr>\n",
       "      <th>0</th>\n",
       "      <td>0</td>\n",
       "      <td>Female</td>\n",
       "      <td>0</td>\n",
       "      <td>Yes</td>\n",
       "      <td>No</td>\n",
       "      <td>9</td>\n",
       "      <td>Yes</td>\n",
       "      <td>No</td>\n",
       "      <td>DSL</td>\n",
       "      <td>No</td>\n",
       "      <td>Yes</td>\n",
       "      <td>No</td>\n",
       "      <td>No</td>\n",
       "      <td>No</td>\n",
       "      <td>No</td>\n",
       "      <td>Month-to-month</td>\n",
       "      <td>No</td>\n",
       "      <td>Mailed check</td>\n",
       "      <td>50.85</td>\n",
       "      <td>466.6</td>\n",
       "    </tr>\n",
       "    <tr>\n",
       "      <th>1</th>\n",
       "      <td>1</td>\n",
       "      <td>Female</td>\n",
       "      <td>0</td>\n",
       "      <td>No</td>\n",
       "      <td>No</td>\n",
       "      <td>18</td>\n",
       "      <td>Yes</td>\n",
       "      <td>Yes</td>\n",
       "      <td>DSL</td>\n",
       "      <td>No</td>\n",
       "      <td>No</td>\n",
       "      <td>No</td>\n",
       "      <td>No</td>\n",
       "      <td>No</td>\n",
       "      <td>No</td>\n",
       "      <td>Month-to-month</td>\n",
       "      <td>Yes</td>\n",
       "      <td>Electronic check</td>\n",
       "      <td>50.30</td>\n",
       "      <td>913.3</td>\n",
       "    </tr>\n",
       "    <tr>\n",
       "      <th>2</th>\n",
       "      <td>2</td>\n",
       "      <td>Female</td>\n",
       "      <td>0</td>\n",
       "      <td>Yes</td>\n",
       "      <td>No</td>\n",
       "      <td>64</td>\n",
       "      <td>Yes</td>\n",
       "      <td>No</td>\n",
       "      <td>No</td>\n",
       "      <td>No internet service</td>\n",
       "      <td>No internet service</td>\n",
       "      <td>No internet service</td>\n",
       "      <td>No internet service</td>\n",
       "      <td>No internet service</td>\n",
       "      <td>No internet service</td>\n",
       "      <td>Two year</td>\n",
       "      <td>No</td>\n",
       "      <td>Credit card (automatic)</td>\n",
       "      <td>19.45</td>\n",
       "      <td>1225.65</td>\n",
       "    </tr>\n",
       "    <tr>\n",
       "      <th>3</th>\n",
       "      <td>3</td>\n",
       "      <td>Male</td>\n",
       "      <td>1</td>\n",
       "      <td>No</td>\n",
       "      <td>No</td>\n",
       "      <td>19</td>\n",
       "      <td>Yes</td>\n",
       "      <td>Yes</td>\n",
       "      <td>Fiber optic</td>\n",
       "      <td>No</td>\n",
       "      <td>No</td>\n",
       "      <td>Yes</td>\n",
       "      <td>No</td>\n",
       "      <td>No</td>\n",
       "      <td>No</td>\n",
       "      <td>Month-to-month</td>\n",
       "      <td>Yes</td>\n",
       "      <td>Electronic check</td>\n",
       "      <td>79.85</td>\n",
       "      <td>1471.75</td>\n",
       "    </tr>\n",
       "    <tr>\n",
       "      <th>4</th>\n",
       "      <td>4</td>\n",
       "      <td>Male</td>\n",
       "      <td>0</td>\n",
       "      <td>Yes</td>\n",
       "      <td>Yes</td>\n",
       "      <td>66</td>\n",
       "      <td>Yes</td>\n",
       "      <td>Yes</td>\n",
       "      <td>DSL</td>\n",
       "      <td>No</td>\n",
       "      <td>No</td>\n",
       "      <td>Yes</td>\n",
       "      <td>No</td>\n",
       "      <td>Yes</td>\n",
       "      <td>No</td>\n",
       "      <td>Two year</td>\n",
       "      <td>Yes</td>\n",
       "      <td>Bank transfer (automatic)</td>\n",
       "      <td>63.30</td>\n",
       "      <td>4189.7</td>\n",
       "    </tr>\n",
       "  </tbody>\n",
       "</table>\n",
       "</div>"
      ],
      "text/plain": [
       "   id  gender  SeniorCitizen Partner Dependents  tenure PhoneService  \\\n",
       "0   0  Female              0     Yes         No       9          Yes   \n",
       "1   1  Female              0      No         No      18          Yes   \n",
       "2   2  Female              0     Yes         No      64          Yes   \n",
       "3   3    Male              1      No         No      19          Yes   \n",
       "4   4    Male              0     Yes        Yes      66          Yes   \n",
       "\n",
       "  MultipleLines InternetService       OnlineSecurity         OnlineBackup  \\\n",
       "0            No             DSL                   No                  Yes   \n",
       "1           Yes             DSL                   No                   No   \n",
       "2            No              No  No internet service  No internet service   \n",
       "3           Yes     Fiber optic                   No                   No   \n",
       "4           Yes             DSL                   No                   No   \n",
       "\n",
       "      DeviceProtection          TechSupport          StreamingTV  \\\n",
       "0                   No                   No                   No   \n",
       "1                   No                   No                   No   \n",
       "2  No internet service  No internet service  No internet service   \n",
       "3                  Yes                   No                   No   \n",
       "4                  Yes                   No                  Yes   \n",
       "\n",
       "       StreamingMovies        Contract PaperlessBilling  \\\n",
       "0                   No  Month-to-month               No   \n",
       "1                   No  Month-to-month              Yes   \n",
       "2  No internet service        Two year               No   \n",
       "3                   No  Month-to-month              Yes   \n",
       "4                   No        Two year              Yes   \n",
       "\n",
       "               PaymentMethod  MonthlyCharges TotalCharges  \n",
       "0               Mailed check           50.85        466.6  \n",
       "1           Electronic check           50.30        913.3  \n",
       "2    Credit card (automatic)           19.45      1225.65  \n",
       "3           Electronic check           79.85      1471.75  \n",
       "4  Bank transfer (automatic)           63.30       4189.7  "
      ]
     },
     "execution_count": 6,
     "metadata": {},
     "output_type": "execute_result"
    }
   ],
   "source": [
    "test_df.head()"
   ]
  },
  {
   "cell_type": "code",
   "execution_count": 7,
   "id": "007a4d6f",
   "metadata": {
    "execution": {
     "iopub.execute_input": "2025-07-21T20:43:40.015739Z",
     "iopub.status.busy": "2025-07-21T20:43:40.015385Z",
     "iopub.status.idle": "2025-07-21T20:43:40.024487Z",
     "shell.execute_reply": "2025-07-21T20:43:40.023546Z"
    },
    "papermill": {
     "duration": 0.018048,
     "end_time": "2025-07-21T20:43:40.025842",
     "exception": false,
     "start_time": "2025-07-21T20:43:40.007794",
     "status": "completed"
    },
    "tags": []
   },
   "outputs": [],
   "source": [
    "test_ids = test_df['id'] if 'id' in test_df.columns else test_df.index\n",
    "test_df.drop('id', axis=1, inplace=True, errors='ignore')"
   ]
  },
  {
   "cell_type": "code",
   "execution_count": 8,
   "id": "d5b5e90f",
   "metadata": {
    "execution": {
     "iopub.execute_input": "2025-07-21T20:43:40.038023Z",
     "iopub.status.busy": "2025-07-21T20:43:40.037487Z",
     "iopub.status.idle": "2025-07-21T20:43:40.045061Z",
     "shell.execute_reply": "2025-07-21T20:43:40.044375Z"
    },
    "papermill": {
     "duration": 0.015107,
     "end_time": "2025-07-21T20:43:40.046398",
     "exception": false,
     "start_time": "2025-07-21T20:43:40.031291",
     "status": "completed"
    },
    "tags": []
   },
   "outputs": [],
   "source": [
    "train_df['Churn'] = train_df['Churn'].map({'No': 0, 'Yes': 1})\n",
    "target = train_df['Churn']\n",
    "train_df.drop('Churn', axis=1, inplace=True)"
   ]
  },
  {
   "cell_type": "code",
   "execution_count": 9,
   "id": "f9e56cef",
   "metadata": {
    "execution": {
     "iopub.execute_input": "2025-07-21T20:43:40.058154Z",
     "iopub.status.busy": "2025-07-21T20:43:40.057869Z",
     "iopub.status.idle": "2025-07-21T20:43:40.065375Z",
     "shell.execute_reply": "2025-07-21T20:43:40.064647Z"
    },
    "papermill": {
     "duration": 0.014893,
     "end_time": "2025-07-21T20:43:40.066667",
     "exception": false,
     "start_time": "2025-07-21T20:43:40.051774",
     "status": "completed"
    },
    "tags": []
   },
   "outputs": [],
   "source": [
    "combined = pd.concat([train_df, test_df], axis=0)"
   ]
  },
  {
   "cell_type": "code",
   "execution_count": 10,
   "id": "84aa0e84",
   "metadata": {
    "execution": {
     "iopub.execute_input": "2025-07-21T20:43:40.078636Z",
     "iopub.status.busy": "2025-07-21T20:43:40.078336Z",
     "iopub.status.idle": "2025-07-21T20:43:40.082884Z",
     "shell.execute_reply": "2025-07-21T20:43:40.082203Z"
    },
    "papermill": {
     "duration": 0.012093,
     "end_time": "2025-07-21T20:43:40.084248",
     "exception": false,
     "start_time": "2025-07-21T20:43:40.072155",
     "status": "completed"
    },
    "tags": []
   },
   "outputs": [],
   "source": [
    "def tenure_bucket(tenure):\n",
    "    if tenure <= 12:\n",
    "        return '0-1 year'\n",
    "    elif tenure <= 24:\n",
    "        return '1-2 years'\n",
    "    elif tenure <= 48:\n",
    "        return '2-4 years'\n",
    "    elif tenure <= 60:\n",
    "        return '4-5 years'\n",
    "    else:\n",
    "        return '5+ years'"
   ]
  },
  {
   "cell_type": "code",
   "execution_count": 11,
   "id": "da0b57c5",
   "metadata": {
    "execution": {
     "iopub.execute_input": "2025-07-21T20:43:40.096999Z",
     "iopub.status.busy": "2025-07-21T20:43:40.096346Z",
     "iopub.status.idle": "2025-07-21T20:43:40.103243Z",
     "shell.execute_reply": "2025-07-21T20:43:40.102408Z"
    },
    "papermill": {
     "duration": 0.01511,
     "end_time": "2025-07-21T20:43:40.104794",
     "exception": false,
     "start_time": "2025-07-21T20:43:40.089684",
     "status": "completed"
    },
    "tags": []
   },
   "outputs": [],
   "source": [
    "combined['TenureGroup'] = combined['tenure'].apply(tenure_bucket)"
   ]
  },
  {
   "cell_type": "code",
   "execution_count": 12,
   "id": "fd7d0430",
   "metadata": {
    "execution": {
     "iopub.execute_input": "2025-07-21T20:43:40.117278Z",
     "iopub.status.busy": "2025-07-21T20:43:40.116549Z",
     "iopub.status.idle": "2025-07-21T20:43:40.121772Z",
     "shell.execute_reply": "2025-07-21T20:43:40.120962Z"
    },
    "papermill": {
     "duration": 0.012901,
     "end_time": "2025-07-21T20:43:40.123310",
     "exception": false,
     "start_time": "2025-07-21T20:43:40.110409",
     "status": "completed"
    },
    "tags": []
   },
   "outputs": [],
   "source": [
    "combined['TotalSpent_est'] = combined['MonthlyCharges'] * combined['tenure']"
   ]
  },
  {
   "cell_type": "code",
   "execution_count": 13,
   "id": "f49ef3a5",
   "metadata": {
    "execution": {
     "iopub.execute_input": "2025-07-21T20:43:40.135311Z",
     "iopub.status.busy": "2025-07-21T20:43:40.134724Z",
     "iopub.status.idle": "2025-07-21T20:43:40.141747Z",
     "shell.execute_reply": "2025-07-21T20:43:40.140962Z"
    },
    "papermill": {
     "duration": 0.014811,
     "end_time": "2025-07-21T20:43:40.143472",
     "exception": false,
     "start_time": "2025-07-21T20:43:40.128661",
     "status": "completed"
    },
    "tags": []
   },
   "outputs": [],
   "source": [
    "combined['InternetService'] = combined['InternetService'].astype(str)\n",
    "combined['InternetService_num'] = combined['InternetService'].map({\n",
    "    'No': 0,\n",
    "    'DSL': 1,\n",
    "    'Fiber optic': 2,\n",
    "    'Missing': -1\n",
    "})"
   ]
  },
  {
   "cell_type": "code",
   "execution_count": 14,
   "id": "9619a1cd",
   "metadata": {
    "execution": {
     "iopub.execute_input": "2025-07-21T20:43:40.155720Z",
     "iopub.status.busy": "2025-07-21T20:43:40.154972Z",
     "iopub.status.idle": "2025-07-21T20:43:40.160220Z",
     "shell.execute_reply": "2025-07-21T20:43:40.159523Z"
    },
    "papermill": {
     "duration": 0.012584,
     "end_time": "2025-07-21T20:43:40.161510",
     "exception": false,
     "start_time": "2025-07-21T20:43:40.148926",
     "status": "completed"
    },
    "tags": []
   },
   "outputs": [],
   "source": [
    "combined['IsSenior_Internet'] = combined['SeniorCitizen'] * combined['InternetService_num']"
   ]
  },
  {
   "cell_type": "code",
   "execution_count": 15,
   "id": "709b19e8",
   "metadata": {
    "execution": {
     "iopub.execute_input": "2025-07-21T20:43:40.173278Z",
     "iopub.status.busy": "2025-07-21T20:43:40.172951Z",
     "iopub.status.idle": "2025-07-21T20:43:40.179150Z",
     "shell.execute_reply": "2025-07-21T20:43:40.178311Z"
    },
    "papermill": {
     "duration": 0.013641,
     "end_time": "2025-07-21T20:43:40.180530",
     "exception": false,
     "start_time": "2025-07-21T20:43:40.166889",
     "status": "completed"
    },
    "tags": []
   },
   "outputs": [],
   "source": [
    "combined['TenureGroup'] = LabelEncoder().fit_transform(combined['TenureGroup'])"
   ]
  },
  {
   "cell_type": "code",
   "execution_count": 16,
   "id": "feeedb09",
   "metadata": {
    "execution": {
     "iopub.execute_input": "2025-07-21T20:43:40.192356Z",
     "iopub.status.busy": "2025-07-21T20:43:40.192027Z",
     "iopub.status.idle": "2025-07-21T20:43:40.248392Z",
     "shell.execute_reply": "2025-07-21T20:43:40.247403Z"
    },
    "papermill": {
     "duration": 0.064357,
     "end_time": "2025-07-21T20:43:40.250352",
     "exception": false,
     "start_time": "2025-07-21T20:43:40.185995",
     "status": "completed"
    },
    "tags": []
   },
   "outputs": [],
   "source": [
    "for col in combined.select_dtypes(include='object').columns:\n",
    "    combined[col] = combined[col].fillna('Missing')\n",
    "    combined[col] = LabelEncoder().fit_transform(combined[col].astype(str))"
   ]
  },
  {
   "cell_type": "code",
   "execution_count": 17,
   "id": "49efd543",
   "metadata": {
    "execution": {
     "iopub.execute_input": "2025-07-21T20:43:40.262696Z",
     "iopub.status.busy": "2025-07-21T20:43:40.262391Z",
     "iopub.status.idle": "2025-07-21T20:43:40.276753Z",
     "shell.execute_reply": "2025-07-21T20:43:40.275874Z"
    },
    "papermill": {
     "duration": 0.022234,
     "end_time": "2025-07-21T20:43:40.278396",
     "exception": false,
     "start_time": "2025-07-21T20:43:40.256162",
     "status": "completed"
    },
    "tags": []
   },
   "outputs": [],
   "source": [
    "combined = combined.fillna(combined.median(numeric_only=True))"
   ]
  },
  {
   "cell_type": "code",
   "execution_count": 18,
   "id": "c795fdc8",
   "metadata": {
    "execution": {
     "iopub.execute_input": "2025-07-21T20:43:40.290298Z",
     "iopub.status.busy": "2025-07-21T20:43:40.289989Z",
     "iopub.status.idle": "2025-07-21T20:43:40.294773Z",
     "shell.execute_reply": "2025-07-21T20:43:40.293969Z"
    },
    "papermill": {
     "duration": 0.012311,
     "end_time": "2025-07-21T20:43:40.296173",
     "exception": false,
     "start_time": "2025-07-21T20:43:40.283862",
     "status": "completed"
    },
    "tags": []
   },
   "outputs": [],
   "source": [
    "X_train = combined.iloc[:len(target)]\n",
    "X_test = combined.iloc[len(target):]\n",
    "y_train = target"
   ]
  },
  {
   "cell_type": "code",
   "execution_count": 19,
   "id": "ba955756",
   "metadata": {
    "execution": {
     "iopub.execute_input": "2025-07-21T20:43:40.307952Z",
     "iopub.status.busy": "2025-07-21T20:43:40.307618Z",
     "iopub.status.idle": "2025-07-21T20:43:40.319524Z",
     "shell.execute_reply": "2025-07-21T20:43:40.318806Z"
    },
    "papermill": {
     "duration": 0.019785,
     "end_time": "2025-07-21T20:43:40.321146",
     "exception": false,
     "start_time": "2025-07-21T20:43:40.301361",
     "status": "completed"
    },
    "tags": []
   },
   "outputs": [],
   "source": [
    "X_tr, X_val, y_tr, y_val = train_test_split(X_train, y_train, test_size=0.2,\n",
    "                                            random_state=42, stratify=y_train)"
   ]
  },
  {
   "cell_type": "code",
   "execution_count": 20,
   "id": "5b842247",
   "metadata": {
    "execution": {
     "iopub.execute_input": "2025-07-21T20:43:40.333168Z",
     "iopub.status.busy": "2025-07-21T20:43:40.332851Z",
     "iopub.status.idle": "2025-07-21T20:43:40.337086Z",
     "shell.execute_reply": "2025-07-21T20:43:40.336262Z"
    },
    "papermill": {
     "duration": 0.011757,
     "end_time": "2025-07-21T20:43:40.338469",
     "exception": false,
     "start_time": "2025-07-21T20:43:40.326712",
     "status": "completed"
    },
    "tags": []
   },
   "outputs": [],
   "source": [
    "neg, pos = np.bincount(y_tr)\n",
    "scale = neg / pos"
   ]
  },
  {
   "cell_type": "code",
   "execution_count": 21,
   "id": "9a309334",
   "metadata": {
    "execution": {
     "iopub.execute_input": "2025-07-21T20:43:40.350154Z",
     "iopub.status.busy": "2025-07-21T20:43:40.349775Z",
     "iopub.status.idle": "2025-07-21T20:43:40.354467Z",
     "shell.execute_reply": "2025-07-21T20:43:40.353567Z"
    },
    "papermill": {
     "duration": 0.012576,
     "end_time": "2025-07-21T20:43:40.356256",
     "exception": false,
     "start_time": "2025-07-21T20:43:40.343680",
     "status": "completed"
    },
    "tags": []
   },
   "outputs": [],
   "source": [
    "model = XGBClassifier(\n",
    "    use_label_encoder=False,\n",
    "    eval_metric='logloss',\n",
    "    random_state=42,\n",
    "    scale_pos_weight=scale,\n",
    "    max_depth=4,\n",
    "    n_estimators=300,\n",
    "    learning_rate=0.05,\n",
    "    subsample=0.8,\n",
    "    colsample_bytree=0.8\n",
    ")"
   ]
  },
  {
   "cell_type": "code",
   "execution_count": 22,
   "id": "6c3c2301",
   "metadata": {
    "execution": {
     "iopub.execute_input": "2025-07-21T20:43:40.368197Z",
     "iopub.status.busy": "2025-07-21T20:43:40.367887Z",
     "iopub.status.idle": "2025-07-21T20:43:40.676936Z",
     "shell.execute_reply": "2025-07-21T20:43:40.675929Z"
    },
    "papermill": {
     "duration": 0.316638,
     "end_time": "2025-07-21T20:43:40.678398",
     "exception": false,
     "start_time": "2025-07-21T20:43:40.361760",
     "status": "completed"
    },
    "tags": []
   },
   "outputs": [
    {
     "data": {
      "text/html": [
       "<style>#sk-container-id-1 {color: black;background-color: white;}#sk-container-id-1 pre{padding: 0;}#sk-container-id-1 div.sk-toggleable {background-color: white;}#sk-container-id-1 label.sk-toggleable__label {cursor: pointer;display: block;width: 100%;margin-bottom: 0;padding: 0.3em;box-sizing: border-box;text-align: center;}#sk-container-id-1 label.sk-toggleable__label-arrow:before {content: \"▸\";float: left;margin-right: 0.25em;color: #696969;}#sk-container-id-1 label.sk-toggleable__label-arrow:hover:before {color: black;}#sk-container-id-1 div.sk-estimator:hover label.sk-toggleable__label-arrow:before {color: black;}#sk-container-id-1 div.sk-toggleable__content {max-height: 0;max-width: 0;overflow: hidden;text-align: left;background-color: #f0f8ff;}#sk-container-id-1 div.sk-toggleable__content pre {margin: 0.2em;color: black;border-radius: 0.25em;background-color: #f0f8ff;}#sk-container-id-1 input.sk-toggleable__control:checked~div.sk-toggleable__content {max-height: 200px;max-width: 100%;overflow: auto;}#sk-container-id-1 input.sk-toggleable__control:checked~label.sk-toggleable__label-arrow:before {content: \"▾\";}#sk-container-id-1 div.sk-estimator input.sk-toggleable__control:checked~label.sk-toggleable__label {background-color: #d4ebff;}#sk-container-id-1 div.sk-label input.sk-toggleable__control:checked~label.sk-toggleable__label {background-color: #d4ebff;}#sk-container-id-1 input.sk-hidden--visually {border: 0;clip: rect(1px 1px 1px 1px);clip: rect(1px, 1px, 1px, 1px);height: 1px;margin: -1px;overflow: hidden;padding: 0;position: absolute;width: 1px;}#sk-container-id-1 div.sk-estimator {font-family: monospace;background-color: #f0f8ff;border: 1px dotted black;border-radius: 0.25em;box-sizing: border-box;margin-bottom: 0.5em;}#sk-container-id-1 div.sk-estimator:hover {background-color: #d4ebff;}#sk-container-id-1 div.sk-parallel-item::after {content: \"\";width: 100%;border-bottom: 1px solid gray;flex-grow: 1;}#sk-container-id-1 div.sk-label:hover label.sk-toggleable__label {background-color: #d4ebff;}#sk-container-id-1 div.sk-serial::before {content: \"\";position: absolute;border-left: 1px solid gray;box-sizing: border-box;top: 0;bottom: 0;left: 50%;z-index: 0;}#sk-container-id-1 div.sk-serial {display: flex;flex-direction: column;align-items: center;background-color: white;padding-right: 0.2em;padding-left: 0.2em;position: relative;}#sk-container-id-1 div.sk-item {position: relative;z-index: 1;}#sk-container-id-1 div.sk-parallel {display: flex;align-items: stretch;justify-content: center;background-color: white;position: relative;}#sk-container-id-1 div.sk-item::before, #sk-container-id-1 div.sk-parallel-item::before {content: \"\";position: absolute;border-left: 1px solid gray;box-sizing: border-box;top: 0;bottom: 0;left: 50%;z-index: -1;}#sk-container-id-1 div.sk-parallel-item {display: flex;flex-direction: column;z-index: 1;position: relative;background-color: white;}#sk-container-id-1 div.sk-parallel-item:first-child::after {align-self: flex-end;width: 50%;}#sk-container-id-1 div.sk-parallel-item:last-child::after {align-self: flex-start;width: 50%;}#sk-container-id-1 div.sk-parallel-item:only-child::after {width: 0;}#sk-container-id-1 div.sk-dashed-wrapped {border: 1px dashed gray;margin: 0 0.4em 0.5em 0.4em;box-sizing: border-box;padding-bottom: 0.4em;background-color: white;}#sk-container-id-1 div.sk-label label {font-family: monospace;font-weight: bold;display: inline-block;line-height: 1.2em;}#sk-container-id-1 div.sk-label-container {text-align: center;}#sk-container-id-1 div.sk-container {/* jupyter's `normalize.less` sets `[hidden] { display: none; }` but bootstrap.min.css set `[hidden] { display: none !important; }` so we also need the `!important` here to be able to override the default hidden behavior on the sphinx rendered scikit-learn.org. See: https://github.com/scikit-learn/scikit-learn/issues/21755 */display: inline-block !important;position: relative;}#sk-container-id-1 div.sk-text-repr-fallback {display: none;}</style><div id=\"sk-container-id-1\" class=\"sk-top-container\"><div class=\"sk-text-repr-fallback\"><pre>XGBClassifier(base_score=None, booster=None, callbacks=None,\n",
       "              colsample_bylevel=None, colsample_bynode=None,\n",
       "              colsample_bytree=0.8, device=None, early_stopping_rounds=None,\n",
       "              enable_categorical=False, eval_metric=&#x27;logloss&#x27;,\n",
       "              feature_types=None, gamma=None, grow_policy=None,\n",
       "              importance_type=None, interaction_constraints=None,\n",
       "              learning_rate=0.05, max_bin=None, max_cat_threshold=None,\n",
       "              max_cat_to_onehot=None, max_delta_step=None, max_depth=4,\n",
       "              max_leaves=None, min_child_weight=None, missing=nan,\n",
       "              monotone_constraints=None, multi_strategy=None, n_estimators=300,\n",
       "              n_jobs=None, num_parallel_tree=None, random_state=42, ...)</pre><b>In a Jupyter environment, please rerun this cell to show the HTML representation or trust the notebook. <br />On GitHub, the HTML representation is unable to render, please try loading this page with nbviewer.org.</b></div><div class=\"sk-container\" hidden><div class=\"sk-item\"><div class=\"sk-estimator sk-toggleable\"><input class=\"sk-toggleable__control sk-hidden--visually\" id=\"sk-estimator-id-1\" type=\"checkbox\" checked><label for=\"sk-estimator-id-1\" class=\"sk-toggleable__label sk-toggleable__label-arrow\">XGBClassifier</label><div class=\"sk-toggleable__content\"><pre>XGBClassifier(base_score=None, booster=None, callbacks=None,\n",
       "              colsample_bylevel=None, colsample_bynode=None,\n",
       "              colsample_bytree=0.8, device=None, early_stopping_rounds=None,\n",
       "              enable_categorical=False, eval_metric=&#x27;logloss&#x27;,\n",
       "              feature_types=None, gamma=None, grow_policy=None,\n",
       "              importance_type=None, interaction_constraints=None,\n",
       "              learning_rate=0.05, max_bin=None, max_cat_threshold=None,\n",
       "              max_cat_to_onehot=None, max_delta_step=None, max_depth=4,\n",
       "              max_leaves=None, min_child_weight=None, missing=nan,\n",
       "              monotone_constraints=None, multi_strategy=None, n_estimators=300,\n",
       "              n_jobs=None, num_parallel_tree=None, random_state=42, ...)</pre></div></div></div></div></div>"
      ],
      "text/plain": [
       "XGBClassifier(base_score=None, booster=None, callbacks=None,\n",
       "              colsample_bylevel=None, colsample_bynode=None,\n",
       "              colsample_bytree=0.8, device=None, early_stopping_rounds=None,\n",
       "              enable_categorical=False, eval_metric='logloss',\n",
       "              feature_types=None, gamma=None, grow_policy=None,\n",
       "              importance_type=None, interaction_constraints=None,\n",
       "              learning_rate=0.05, max_bin=None, max_cat_threshold=None,\n",
       "              max_cat_to_onehot=None, max_delta_step=None, max_depth=4,\n",
       "              max_leaves=None, min_child_weight=None, missing=nan,\n",
       "              monotone_constraints=None, multi_strategy=None, n_estimators=300,\n",
       "              n_jobs=None, num_parallel_tree=None, random_state=42, ...)"
      ]
     },
     "execution_count": 22,
     "metadata": {},
     "output_type": "execute_result"
    }
   ],
   "source": [
    "model.fit(X_tr, y_tr)"
   ]
  },
  {
   "cell_type": "code",
   "execution_count": 23,
   "id": "43832017",
   "metadata": {
    "execution": {
     "iopub.execute_input": "2025-07-21T20:43:40.690712Z",
     "iopub.status.busy": "2025-07-21T20:43:40.690434Z",
     "iopub.status.idle": "2025-07-21T20:43:40.738439Z",
     "shell.execute_reply": "2025-07-21T20:43:40.737348Z"
    },
    "papermill": {
     "duration": 0.055585,
     "end_time": "2025-07-21T20:43:40.739744",
     "exception": false,
     "start_time": "2025-07-21T20:43:40.684159",
     "status": "completed"
    },
    "tags": []
   },
   "outputs": [
    {
     "name": "stdout",
     "output_type": "stream",
     "text": [
      "Threshold=0.10 → F1=0.5279\n",
      "Threshold=0.15 → F1=0.5535\n",
      "Threshold=0.20 → F1=0.5682\n",
      "Threshold=0.25 → F1=0.5887\n",
      "Threshold=0.30 → F1=0.6002\n",
      "Threshold=0.35 → F1=0.6220\n",
      "Threshold=0.40 → F1=0.6300\n",
      "Threshold=0.45 → F1=0.6428\n",
      "Threshold=0.50 → F1=0.6507\n",
      "Threshold=0.55 → F1=0.6344\n",
      "Threshold=0.60 → F1=0.6410\n",
      "Threshold=0.65 → F1=0.6224\n",
      "Threshold=0.70 → F1=0.6055\n",
      "Threshold=0.75 → F1=0.5451\n",
      "Threshold=0.80 → F1=0.4756\n",
      "Threshold=0.85 → F1=0.4090\n",
      "\n",
      "Best threshold = 0.50 | F1 = 0.6507\n"
     ]
    }
   ],
   "source": [
    "val_proba = model.predict_proba(X_val)[:, 1]\n",
    "best_f1 = 0\n",
    "best_thresh = 0.5\n",
    "for t in np.arange(0.1, 0.9, 0.05):\n",
    "    preds = (val_proba >= t).astype(int)\n",
    "    f1 = f1_score(y_val, preds)\n",
    "    print(f\"Threshold={t:.2f} → F1={f1:.4f}\")\n",
    "    if f1 > best_f1:\n",
    "        best_f1 = f1\n",
    "        best_thresh = t\n",
    "print(f\"\\nBest threshold = {best_thresh:.2f} | F1 = {best_f1:.4f}\")"
   ]
  },
  {
   "cell_type": "code",
   "execution_count": 24,
   "id": "07df0e13",
   "metadata": {
    "execution": {
     "iopub.execute_input": "2025-07-21T20:43:40.752120Z",
     "iopub.status.busy": "2025-07-21T20:43:40.751765Z",
     "iopub.status.idle": "2025-07-21T20:43:41.096760Z",
     "shell.execute_reply": "2025-07-21T20:43:41.095645Z"
    },
    "papermill": {
     "duration": 0.352784,
     "end_time": "2025-07-21T20:43:41.098262",
     "exception": false,
     "start_time": "2025-07-21T20:43:40.745478",
     "status": "completed"
    },
    "tags": []
   },
   "outputs": [
    {
     "data": {
      "image/png": "[encoded data removed]",
      "text/plain": [
       "<Figure size 1000x600 with 1 Axes>"
      ]
     },
     "metadata": {},
     "output_type": "display_data"
    }
   ],
   "source": [
    "# --------- Feature Importance ----------\n",
    "importances = model.feature_importances_\n",
    "feat_imp = pd.Series(importances, index=X_train.columns).sort_values(ascending=False)\n",
    "plt.figure(figsize=(10, 6))\n",
    "sns.barplot(x=feat_imp.values[:15], y=feat_imp.index[:15])\n",
    "plt.title(\"Top 15 Feature Importances\")\n",
    "plt.show()"
   ]
  },
  {
   "cell_type": "code",
   "execution_count": 25,
   "id": "af317c1a",
   "metadata": {
    "execution": {
     "iopub.execute_input": "2025-07-21T20:43:41.113541Z",
     "iopub.status.busy": "2025-07-21T20:43:41.112428Z",
     "iopub.status.idle": "2025-07-21T20:43:41.124692Z",
     "shell.execute_reply": "2025-07-21T20:43:41.124056Z"
    },
    "papermill": {
     "duration": 0.021438,
     "end_time": "2025-07-21T20:43:41.126422",
     "exception": false,
     "start_time": "2025-07-21T20:43:41.104984",
     "status": "completed"
    },
    "tags": []
   },
   "outputs": [],
   "source": [
    "test_proba = model.predict_proba(X_test)[:, 1]\n",
    "test_pred = (test_proba >= best_thresh).astype(int)"
   ]
  },
  {
   "cell_type": "code",
   "execution_count": 26,
   "id": "2b891905",
   "metadata": {
    "execution": {
     "iopub.execute_input": "2025-07-21T20:43:41.141402Z",
     "iopub.status.busy": "2025-07-21T20:43:41.140576Z",
     "iopub.status.idle": "2025-07-21T20:43:41.147058Z",
     "shell.execute_reply": "2025-07-21T20:43:41.146314Z"
    },
    "papermill": {
     "duration": 0.015182,
     "end_time": "2025-07-21T20:43:41.148443",
     "exception": false,
     "start_time": "2025-07-21T20:43:41.133261",
     "status": "completed"
    },
    "tags": []
   },
   "outputs": [],
   "source": [
    "test_pred_labels = pd.Series(test_pred).map({0: 'No', 1: 'Yes'})\n"
   ]
  },
  {
   "cell_type": "code",
   "execution_count": 27,
   "id": "886dd153",
   "metadata": {
    "execution": {
     "iopub.execute_input": "2025-07-21T20:43:41.163464Z",
     "iopub.status.busy": "2025-07-21T20:43:41.163128Z",
     "iopub.status.idle": "2025-07-21T20:43:41.168030Z",
     "shell.execute_reply": "2025-07-21T20:43:41.167261Z"
    },
    "papermill": {
     "duration": 0.013913,
     "end_time": "2025-07-21T20:43:41.169346",
     "exception": false,
     "start_time": "2025-07-21T20:43:41.155433",
     "status": "completed"
    },
    "tags": []
   },
   "outputs": [],
   "source": [
    "submission = pd.DataFrame({\n",
    "    'id': test_ids,\n",
    "    'Churn': test_pred_labels\n",
    "})"
   ]
  },
  {
   "cell_type": "code",
   "execution_count": 28,
   "id": "0227945f",
   "metadata": {
    "execution": {
     "iopub.execute_input": "2025-07-21T20:43:41.183791Z",
     "iopub.status.busy": "2025-07-21T20:43:41.183473Z",
     "iopub.status.idle": "2025-07-21T20:43:41.193524Z",
     "shell.execute_reply": "2025-07-21T20:43:41.192858Z"
    },
    "papermill": {
     "duration": 0.018924,
     "end_time": "2025-07-21T20:43:41.195011",
     "exception": false,
     "start_time": "2025-07-21T20:43:41.176087",
     "status": "completed"
    },
    "tags": []
   },
   "outputs": [],
   "source": [
    "submission.to_csv(\"submission.csv\", index=False)"
   ]
  }
 ],
 "metadata": {
  "kaggle": {
   "accelerator": "none",
   "dataSources": [
    {
     "datasetId": 7908544,
     "sourceId": 12528227,
     "sourceType": "datasetVersion"
    }
   ],
   "dockerImageVersionId": 31089,
   "isGpuEnabled": false,
   "isInternetEnabled": false,
   "language": "python",
   "sourceType": "notebook"
  },
  "kernelspec": {
   "display_name": "Python 3",
   "language": "python",
   "name": "python3"
  },
  "language_info": {
   "codemirror_mode": {
    "name": "ipython",
    "version": 3
   },
   "file_extension": ".py",
   "mimetype": "text/x-python",
   "name": "python",
   "nbconvert_exporter": "python",
   "pygments_lexer": "ipython3",
   "version": "3.11.13"
  },
  "papermill": {
   "default_parameters": {},
   "duration": 11.254453,
   "end_time": "2025-07-21T20:43:41.921512",
   "environment_variables": {},
   "exception": null,
   "input_path": "__notebook__.ipynb",
   "output_path": "__notebook__.ipynb",
   "parameters": {},
   "start_time": "2025-07-21T20:43:30.667059",
   "version": "2.6.0"
  }
 },
 "nbformat": 4,
 "nbformat_minor": 5
}
